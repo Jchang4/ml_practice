{
 "cells": [
  {
   "cell_type": "code",
   "execution_count": 7,
   "metadata": {},
   "outputs": [],
   "source": [
    "import pickle\n",
    "import numpy as np\n",
    "from keras.models import load_model"
   ]
  },
  {
   "cell_type": "code",
   "execution_count": 9,
   "metadata": {},
   "outputs": [],
   "source": [
    "data_dict = pickle.load(open('../data/alice/processed-alice.pickle', 'rb'))\n",
    "X = data_dict['X']\n",
    "Y = data_dict['Y']\n",
    "dataX = data_dict['dataX']\n",
    "dataY = data_dict['dataY']\n",
    "char_to_idx = data_dict['char_to_idx']\n",
    "idx_to_char = data_dict['idx_to_char']\n",
    "\n",
    "# Constants\n",
    "m, n_timesteps, _ = X.shape\n",
    "_, n_chars = Y.shape\n",
    "n_a = 64"
   ]
  },
  {
   "cell_type": "code",
   "execution_count": 11,
   "metadata": {},
   "outputs": [],
   "source": [
    "model = load_model('../data/trained-50-epochs.h5')"
   ]
  },
  {
   "cell_type": "code",
   "execution_count": 22,
   "metadata": {},
   "outputs": [
    {
     "name": "stdout",
     "output_type": "stream",
     "text": [
      "Epoch 1/25\n",
      "144224/144224 [==============================] - 84s 580us/step - loss: 1.8724\n",
      "Epoch 2/25\n",
      "144224/144224 [==============================] - 83s 577us/step - loss: 1.8685\n",
      "Epoch 3/25\n",
      "144224/144224 [==============================] - 83s 577us/step - loss: 1.8647\n",
      "Epoch 4/25\n",
      "144224/144224 [==============================] - 83s 577us/step - loss: 1.8605\n",
      "Epoch 5/25\n",
      "144224/144224 [==============================] - 83s 578us/step - loss: 1.8560\n",
      "Epoch 6/25\n",
      "144224/144224 [==============================] - 83s 578us/step - loss: 1.8515\n",
      "Epoch 7/25\n",
      "144224/144224 [==============================] - 83s 578us/step - loss: 1.8493\n",
      "Epoch 8/25\n",
      "144224/144224 [==============================] - 83s 578us/step - loss: 1.8460\n",
      "Epoch 9/25\n",
      "144224/144224 [==============================] - 83s 578us/step - loss: 1.8416\n",
      "Epoch 10/25\n",
      "144224/144224 [==============================] - 83s 578us/step - loss: 1.8378\n",
      "Epoch 11/25\n",
      "144224/144224 [==============================] - 84s 579us/step - loss: 1.8334\n",
      "Epoch 12/25\n",
      "144224/144224 [==============================] - 84s 579us/step - loss: 1.8317\n",
      "Epoch 13/25\n",
      "144224/144224 [==============================] - 83s 579us/step - loss: 1.8285\n",
      "Epoch 14/25\n",
      "144224/144224 [==============================] - 84s 580us/step - loss: 1.8241\n",
      "Epoch 15/25\n",
      "144224/144224 [==============================] - 84s 580us/step - loss: 1.8205\n",
      "Epoch 16/25\n",
      "144224/144224 [==============================] - 84s 580us/step - loss: 1.8176\n",
      "Epoch 17/25\n",
      "144224/144224 [==============================] - 84s 581us/step - loss: 1.8156\n",
      "Epoch 18/25\n",
      "144224/144224 [==============================] - 84s 581us/step - loss: 1.8119\n",
      "Epoch 19/25\n",
      "144224/144224 [==============================] - 84s 580us/step - loss: 1.8087\n",
      "Epoch 20/25\n",
      "144224/144224 [==============================] - 84s 581us/step - loss: 1.8056\n",
      "Epoch 21/25\n",
      "144224/144224 [==============================] - 84s 581us/step - loss: 1.8010\n",
      "Epoch 22/25\n",
      "144224/144224 [==============================] - 84s 582us/step - loss: 1.8000\n",
      "Epoch 23/25\n",
      "144224/144224 [==============================] - 84s 581us/step - loss: 1.7974\n",
      "Epoch 24/25\n",
      "144224/144224 [==============================] - 84s 582us/step - loss: 1.7920\n",
      "Epoch 25/25\n",
      "144224/144224 [==============================] - 84s 582us/step - loss: 1.7909\n"
     ]
    },
    {
     "data": {
      "text/plain": [
       "<keras.callbacks.History at 0x7f0a467b3f28>"
      ]
     },
     "execution_count": 22,
     "metadata": {},
     "output_type": "execute_result"
    }
   ],
   "source": [
    "model.fit(X, Y, epochs=25, batch_size=256)"
   ]
  },
  {
   "cell_type": "code",
   "execution_count": 23,
   "metadata": {},
   "outputs": [],
   "source": [
    "model.save('../data/trained-100-epochs.h5')"
   ]
  },
  {
   "cell_type": "code",
   "execution_count": 24,
   "metadata": {},
   "outputs": [],
   "source": [
    "# Generate Text\n",
    "# Given seed sentence - 100 characters - predict next character\n",
    "# For every predicted char, add to predictions = []\n",
    "\n",
    "def reshape_input(original_input):\n",
    "    return np.reshape(original_input, (1, n_timesteps, 1))\n",
    "\n",
    "def get_p_idx(p):\n",
    "    flattened = np.ndarray.flatten(np.array(p))\n",
    "    return np.random.choice([i for i in range(n_chars)], \n",
    "                            p = flattened)\n",
    "\n",
    "def generate_text(seed_input, model, num_chars_to_generate=140):\n",
    "    if len(seed_input) < 100:\n",
    "        raise Exception('Seed_input must be at least 100 characters')\n",
    "    curr_input = seed_input.lower()\n",
    "    curr_input = list(curr_input)\n",
    "    curr_input = curr_input[:100] # first 100 chars\n",
    "    \n",
    "    curr_input = [char_to_idx[c] for c in curr_input]\n",
    "    # Normalize\n",
    "    curr_input = np.array(curr_input) / n_chars\n",
    "    predictions = []\n",
    "    \n",
    "    for i in range(num_chars_to_generate):\n",
    "        p = model.predict(reshape_input(curr_input))\n",
    "        p_idx = get_p_idx(p)\n",
    "        predictions.append(idx_to_char[p_idx])\n",
    "        curr_input = np.append(curr_input[1:], p_idx / n_chars)\n",
    "    \n",
    "    return ''.join(predictions)"
   ]
  },
  {
   "cell_type": "code",
   "execution_count": 25,
   "metadata": {},
   "outputs": [],
   "source": [
    "seed_input = \"Alice was beginning to get very tired of sitting by her sister on the bank, and of having nothing to do: once or twice she had peeped into the book her sister was reading, but it had no pictures or conversations in it\""
   ]
  },
  {
   "cell_type": "code",
   "execution_count": 26,
   "metadata": {},
   "outputs": [
    {
     "data": {
      "text/plain": [
       "'\\nruz ouite oe the qamis hrsand. ‘sopnss innuoed ofkesp. i weil a fuaae\\nwas jtvr lfoernoed the degvhng iithnish.’\\n\\nsuntt then the sooe of hep'"
      ]
     },
     "execution_count": 26,
     "metadata": {},
     "output_type": "execute_result"
    }
   ],
   "source": [
    "generate_text(seed_input, model)"
   ]
  },
  {
   "cell_type": "code",
   "execution_count": null,
   "metadata": {},
   "outputs": [],
   "source": []
  }
 ],
 "metadata": {
  "kernelspec": {
   "display_name": "Python 3",
   "language": "python",
   "name": "python3"
  },
  "language_info": {
   "codemirror_mode": {
    "name": "ipython",
    "version": 3
   },
   "file_extension": ".py",
   "mimetype": "text/x-python",
   "name": "python",
   "nbconvert_exporter": "python",
   "pygments_lexer": "ipython3",
   "version": "3.6.6"
  }
 },
 "nbformat": 4,
 "nbformat_minor": 2
}
